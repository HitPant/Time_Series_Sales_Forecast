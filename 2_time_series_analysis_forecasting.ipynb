{
 "cells": [
  {
   "cell_type": "code",
   "execution_count": 33,
   "id": "4a67f32a",
   "metadata": {},
   "outputs": [],
   "source": [
    "import pandas as pd\n",
    "import numpy as np\n",
    "import seaborn as sns\n",
    "import matplotlib.pyplot as plt\n",
    "# from fbprophet import Prophet\n",
    "\n",
    "import xgboost as xgb\n",
    "from sklearn import metrics\n",
    "from sklearn import model_selection\n",
    "from sklearn.model_selection import train_test_split, GridSearchCV, RandomizedSearchCV\n",
    "from xgboost.sklearn import XGBRegressor\n",
    "from sklearn.metrics import mean_squared_error\n",
    "from math import sqrt"
   ]
  },
  {
   "cell_type": "code",
   "execution_count": 2,
   "id": "3babf158",
   "metadata": {},
   "outputs": [
    {
     "name": "stderr",
     "output_type": "stream",
     "text": [
      "C:\\Users\\Hitesh\\AppData\\Local\\Temp\\ipykernel_20284\\2619425430.py:2: DtypeWarning: Columns (7) have mixed types. Specify dtype option on import or set low_memory=False.\n",
      "  train = pd.read_csv(\"dataset/train.csv\")\n"
     ]
    }
   ],
   "source": [
    "store = pd.read_csv(\"dataset/store.csv\")\n",
    "train = pd.read_csv(\"dataset/train.csv\")"
   ]
  },
  {
   "cell_type": "code",
   "execution_count": 3,
   "id": "86a43aed",
   "metadata": {},
   "outputs": [
    {
     "data": {
      "text/plain": [
       "<Axes: >"
      ]
     },
     "execution_count": 3,
     "metadata": {},
     "output_type": "execute_result"
    },
    {
     "data": {
      "image/png": "[encoded data removed]",
      "text/plain": [
       "<Figure size 640x480 with 1 Axes>"
      ]
     },
     "metadata": {},
     "output_type": "display_data"
    }
   ],
   "source": [
    "store.CompetitionDistance.plot.box() "
   ]
  },
  {
   "cell_type": "code",
   "execution_count": 4,
   "id": "6a8a4307",
   "metadata": {},
   "outputs": [],
   "source": [
    "store[\"CompetitionDistance\"].fillna(store[\"CompetitionDistance\"].median(), inplace = True)\n",
    "store[\"CompetitionOpenSinceMonth\"].fillna(0, inplace = True)\n",
    "store[\"CompetitionOpenSinceYear\"].fillna(0, inplace = True)"
   ]
  },
  {
   "cell_type": "code",
   "execution_count": 5,
   "id": "35044c89",
   "metadata": {},
   "outputs": [
    {
     "data": {
      "text/html": [
       "<div>\n",
       "<style scoped>\n",
       "    .dataframe tbody tr th:only-of-type {\n",
       "        vertical-align: middle;\n",
       "    }\n",
       "\n",
       "    .dataframe tbody tr th {\n",
       "        vertical-align: top;\n",
       "    }\n",
       "\n",
       "    .dataframe thead th {\n",
       "        text-align: right;\n",
       "    }\n",
       "</style>\n",
       "<table border=\"1\" class=\"dataframe\">\n",
       "  <thead>\n",
       "    <tr style=\"text-align: right;\">\n",
       "      <th></th>\n",
       "      <th>Store</th>\n",
       "      <th>StoreType</th>\n",
       "      <th>Assortment</th>\n",
       "      <th>CompetitionDistance</th>\n",
       "      <th>CompetitionOpenSinceMonth</th>\n",
       "      <th>CompetitionOpenSinceYear</th>\n",
       "      <th>Promo2SinceWeek</th>\n",
       "      <th>Promo2SinceYear</th>\n",
       "      <th>PromoInterval</th>\n",
       "    </tr>\n",
       "    <tr>\n",
       "      <th>Promo2</th>\n",
       "      <th></th>\n",
       "      <th></th>\n",
       "      <th></th>\n",
       "      <th></th>\n",
       "      <th></th>\n",
       "      <th></th>\n",
       "      <th></th>\n",
       "      <th></th>\n",
       "      <th></th>\n",
       "    </tr>\n",
       "  </thead>\n",
       "  <tbody>\n",
       "    <tr>\n",
       "      <th>0</th>\n",
       "      <td>544</td>\n",
       "      <td>544</td>\n",
       "      <td>544</td>\n",
       "      <td>544</td>\n",
       "      <td>544</td>\n",
       "      <td>544</td>\n",
       "      <td>0</td>\n",
       "      <td>0</td>\n",
       "      <td>0</td>\n",
       "    </tr>\n",
       "    <tr>\n",
       "      <th>1</th>\n",
       "      <td>571</td>\n",
       "      <td>571</td>\n",
       "      <td>571</td>\n",
       "      <td>571</td>\n",
       "      <td>571</td>\n",
       "      <td>571</td>\n",
       "      <td>571</td>\n",
       "      <td>571</td>\n",
       "      <td>571</td>\n",
       "    </tr>\n",
       "  </tbody>\n",
       "</table>\n",
       "</div>"
      ],
      "text/plain": [
       "        Store  StoreType  Assortment  CompetitionDistance  \\\n",
       "Promo2                                                      \n",
       "0         544        544         544                  544   \n",
       "1         571        571         571                  571   \n",
       "\n",
       "        CompetitionOpenSinceMonth  CompetitionOpenSinceYear  Promo2SinceWeek  \\\n",
       "Promo2                                                                         \n",
       "0                             544                       544                0   \n",
       "1                             571                       571              571   \n",
       "\n",
       "        Promo2SinceYear  PromoInterval  \n",
       "Promo2                                  \n",
       "0                     0              0  \n",
       "1                   571            571  "
      ]
     },
     "execution_count": 5,
     "metadata": {},
     "output_type": "execute_result"
    }
   ],
   "source": [
    "store.groupby(by = \"Promo2\", axis = 0).count() "
   ]
  },
  {
   "cell_type": "code",
   "execution_count": 6,
   "id": "a6897d70",
   "metadata": {},
   "outputs": [],
   "source": [
    "store[\"Promo2SinceWeek\"].fillna(0, inplace = True)\n",
    "store[\"Promo2SinceYear\"].fillna(0, inplace = True)\n",
    "store[\"PromoInterval\"].fillna(0, inplace = True)"
   ]
  },
  {
   "cell_type": "code",
   "execution_count": null,
   "id": "6c222608",
   "metadata": {},
   "outputs": [],
   "source": []
  },
  {
   "cell_type": "code",
   "execution_count": 7,
   "id": "45c71d12",
   "metadata": {},
   "outputs": [
    {
     "data": {
      "text/plain": [
       "Store            0\n",
       "DayOfWeek        0\n",
       "Date             0\n",
       "Sales            0\n",
       "Customers        0\n",
       "Open             0\n",
       "Promo            0\n",
       "StateHoliday     0\n",
       "SchoolHoliday    0\n",
       "dtype: int64"
      ]
     },
     "execution_count": 7,
     "metadata": {},
     "output_type": "execute_result"
    }
   ],
   "source": [
    "train.isnull().sum()"
   ]
  },
  {
   "cell_type": "code",
   "execution_count": 8,
   "id": "fd08e35d",
   "metadata": {},
   "outputs": [
    {
     "data": {
      "text/plain": [
       "1017209"
      ]
     },
     "execution_count": 8,
     "metadata": {},
     "output_type": "execute_result"
    }
   ],
   "source": [
    "# encoding stateholiday\n",
    "train[\"StateHoliday_cat\"] = train[\"StateHoliday\"].map({0:0, \"0\": 0, \"a\": 1, \"b\": 1, \"c\": 1})\n",
    "train.StateHoliday_cat.count()"
   ]
  },
  {
   "cell_type": "code",
   "execution_count": 9,
   "id": "0fd2f6c9",
   "metadata": {},
   "outputs": [],
   "source": [
    "train = train.drop(\"StateHoliday\", axis = 1)\n",
    "# train.tail()"
   ]
  },
  {
   "cell_type": "code",
   "execution_count": 10,
   "id": "28e4fa11",
   "metadata": {},
   "outputs": [],
   "source": [
    "#lets delete the times, where the stores were opened with no sales because of days in inventory.\n",
    "train = train.drop(train[(train.Open == 0) & (train.Sales == 0)].index)\n",
    "train = train.reset_index(drop = True) # to ge the indexes back to 0, 1, 2,etc."
   ]
  },
  {
   "cell_type": "code",
   "execution_count": 11,
   "id": "fee1cb17",
   "metadata": {},
   "outputs": [
    {
     "name": "stdout",
     "output_type": "stream",
     "text": [
      "<class 'pandas.core.frame.DataFrame'>\n",
      "Int64Index: 844392 entries, 0 to 844391\n",
      "Data columns (total 18 columns):\n",
      " #   Column                     Non-Null Count   Dtype  \n",
      "---  ------                     --------------   -----  \n",
      " 0   Store                      844392 non-null  int64  \n",
      " 1   DayOfWeek                  844392 non-null  int64  \n",
      " 2   Date                       844392 non-null  object \n",
      " 3   Sales                      844392 non-null  int64  \n",
      " 4   Customers                  844392 non-null  int64  \n",
      " 5   Open                       844392 non-null  int64  \n",
      " 6   Promo                      844392 non-null  int64  \n",
      " 7   SchoolHoliday              844392 non-null  int64  \n",
      " 8   StateHoliday_cat           844392 non-null  int64  \n",
      " 9   StoreType                  844392 non-null  object \n",
      " 10  Assortment                 844392 non-null  object \n",
      " 11  CompetitionDistance        844392 non-null  float64\n",
      " 12  CompetitionOpenSinceMonth  844392 non-null  float64\n",
      " 13  CompetitionOpenSinceYear   844392 non-null  float64\n",
      " 14  Promo2                     844392 non-null  int64  \n",
      " 15  Promo2SinceWeek            844392 non-null  float64\n",
      " 16  Promo2SinceYear            844392 non-null  float64\n",
      " 17  PromoInterval              844392 non-null  object \n",
      "dtypes: float64(5), int64(9), object(4)\n",
      "memory usage: 122.4+ MB\n"
     ]
    }
   ],
   "source": [
    "train_store = pd.merge(train, store, how = \"left\", on = \"Store\")\n",
    "train_store.info()"
   ]
  },
  {
   "cell_type": "code",
   "execution_count": 12,
   "id": "8c84b4d2",
   "metadata": {},
   "outputs": [
    {
     "data": {
      "text/plain": [
       "Store                        0\n",
       "DayOfWeek                    0\n",
       "Date                         0\n",
       "Sales                        0\n",
       "Customers                    0\n",
       "Open                         0\n",
       "Promo                        0\n",
       "SchoolHoliday                0\n",
       "StateHoliday_cat             0\n",
       "StoreType                    0\n",
       "Assortment                   0\n",
       "CompetitionDistance          0\n",
       "CompetitionOpenSinceMonth    0\n",
       "CompetitionOpenSinceYear     0\n",
       "Promo2                       0\n",
       "Promo2SinceWeek              0\n",
       "Promo2SinceYear              0\n",
       "PromoInterval                0\n",
       "dtype: int64"
      ]
     },
     "execution_count": 12,
     "metadata": {},
     "output_type": "execute_result"
    }
   ],
   "source": [
    "train_store.isnull().sum()"
   ]
  },
  {
   "cell_type": "code",
   "execution_count": 13,
   "id": "fdf79871",
   "metadata": {},
   "outputs": [
    {
     "data": {
      "text/html": [
       "<div>\n",
       "<style scoped>\n",
       "    .dataframe tbody tr th:only-of-type {\n",
       "        vertical-align: middle;\n",
       "    }\n",
       "\n",
       "    .dataframe tbody tr th {\n",
       "        vertical-align: top;\n",
       "    }\n",
       "\n",
       "    .dataframe thead th {\n",
       "        text-align: right;\n",
       "    }\n",
       "</style>\n",
       "<table border=\"1\" class=\"dataframe\">\n",
       "  <thead>\n",
       "    <tr style=\"text-align: right;\">\n",
       "      <th></th>\n",
       "      <th>Store</th>\n",
       "      <th>DayOfWeek</th>\n",
       "      <th>Sales</th>\n",
       "      <th>Customers</th>\n",
       "      <th>Open</th>\n",
       "      <th>Promo</th>\n",
       "      <th>SchoolHoliday</th>\n",
       "      <th>StateHoliday_cat</th>\n",
       "      <th>CompetitionDistance</th>\n",
       "      <th>CompetitionOpenSinceMonth</th>\n",
       "      <th>CompetitionOpenSinceYear</th>\n",
       "      <th>Promo2</th>\n",
       "      <th>Promo2SinceWeek</th>\n",
       "      <th>Promo2SinceYear</th>\n",
       "    </tr>\n",
       "  </thead>\n",
       "  <tbody>\n",
       "    <tr>\n",
       "      <th>count</th>\n",
       "      <td>844392.000000</td>\n",
       "      <td>844392.000000</td>\n",
       "      <td>844392.000000</td>\n",
       "      <td>844392.000000</td>\n",
       "      <td>844392.0</td>\n",
       "      <td>844392.000000</td>\n",
       "      <td>844392.000000</td>\n",
       "      <td>844392.000000</td>\n",
       "      <td>844392.000000</td>\n",
       "      <td>844392.000000</td>\n",
       "      <td>844392.000000</td>\n",
       "      <td>844392.000000</td>\n",
       "      <td>844392.000000</td>\n",
       "      <td>844392.000000</td>\n",
       "    </tr>\n",
       "    <tr>\n",
       "      <th>mean</th>\n",
       "      <td>558.422920</td>\n",
       "      <td>3.520361</td>\n",
       "      <td>6955.514291</td>\n",
       "      <td>762.728395</td>\n",
       "      <td>1.0</td>\n",
       "      <td>0.446352</td>\n",
       "      <td>0.193580</td>\n",
       "      <td>0.001078</td>\n",
       "      <td>5449.868829</td>\n",
       "      <td>4.926491</td>\n",
       "      <td>1369.688401</td>\n",
       "      <td>0.498684</td>\n",
       "      <td>11.596118</td>\n",
       "      <td>1003.230065</td>\n",
       "    </tr>\n",
       "    <tr>\n",
       "      <th>std</th>\n",
       "      <td>321.731914</td>\n",
       "      <td>1.723689</td>\n",
       "      <td>3104.214680</td>\n",
       "      <td>401.227674</td>\n",
       "      <td>0.0</td>\n",
       "      <td>0.497114</td>\n",
       "      <td>0.395103</td>\n",
       "      <td>0.032811</td>\n",
       "      <td>7800.946702</td>\n",
       "      <td>4.283663</td>\n",
       "      <td>935.558173</td>\n",
       "      <td>0.499999</td>\n",
       "      <td>15.307873</td>\n",
       "      <td>1005.874806</td>\n",
       "    </tr>\n",
       "    <tr>\n",
       "      <th>min</th>\n",
       "      <td>1.000000</td>\n",
       "      <td>1.000000</td>\n",
       "      <td>0.000000</td>\n",
       "      <td>0.000000</td>\n",
       "      <td>1.0</td>\n",
       "      <td>0.000000</td>\n",
       "      <td>0.000000</td>\n",
       "      <td>0.000000</td>\n",
       "      <td>20.000000</td>\n",
       "      <td>0.000000</td>\n",
       "      <td>0.000000</td>\n",
       "      <td>0.000000</td>\n",
       "      <td>0.000000</td>\n",
       "      <td>0.000000</td>\n",
       "    </tr>\n",
       "    <tr>\n",
       "      <th>25%</th>\n",
       "      <td>280.000000</td>\n",
       "      <td>2.000000</td>\n",
       "      <td>4859.000000</td>\n",
       "      <td>519.000000</td>\n",
       "      <td>1.0</td>\n",
       "      <td>0.000000</td>\n",
       "      <td>0.000000</td>\n",
       "      <td>0.000000</td>\n",
       "      <td>710.000000</td>\n",
       "      <td>0.000000</td>\n",
       "      <td>0.000000</td>\n",
       "      <td>0.000000</td>\n",
       "      <td>0.000000</td>\n",
       "      <td>0.000000</td>\n",
       "    </tr>\n",
       "    <tr>\n",
       "      <th>50%</th>\n",
       "      <td>558.000000</td>\n",
       "      <td>3.000000</td>\n",
       "      <td>6369.000000</td>\n",
       "      <td>676.000000</td>\n",
       "      <td>1.0</td>\n",
       "      <td>0.000000</td>\n",
       "      <td>0.000000</td>\n",
       "      <td>0.000000</td>\n",
       "      <td>2325.000000</td>\n",
       "      <td>4.000000</td>\n",
       "      <td>2006.000000</td>\n",
       "      <td>0.000000</td>\n",
       "      <td>0.000000</td>\n",
       "      <td>0.000000</td>\n",
       "    </tr>\n",
       "    <tr>\n",
       "      <th>75%</th>\n",
       "      <td>837.000000</td>\n",
       "      <td>5.000000</td>\n",
       "      <td>8360.000000</td>\n",
       "      <td>893.000000</td>\n",
       "      <td>1.0</td>\n",
       "      <td>1.000000</td>\n",
       "      <td>0.000000</td>\n",
       "      <td>0.000000</td>\n",
       "      <td>6880.000000</td>\n",
       "      <td>9.000000</td>\n",
       "      <td>2011.000000</td>\n",
       "      <td>1.000000</td>\n",
       "      <td>22.000000</td>\n",
       "      <td>2012.000000</td>\n",
       "    </tr>\n",
       "    <tr>\n",
       "      <th>max</th>\n",
       "      <td>1115.000000</td>\n",
       "      <td>7.000000</td>\n",
       "      <td>41551.000000</td>\n",
       "      <td>7388.000000</td>\n",
       "      <td>1.0</td>\n",
       "      <td>1.000000</td>\n",
       "      <td>1.000000</td>\n",
       "      <td>1.000000</td>\n",
       "      <td>75860.000000</td>\n",
       "      <td>12.000000</td>\n",
       "      <td>2015.000000</td>\n",
       "      <td>1.000000</td>\n",
       "      <td>50.000000</td>\n",
       "      <td>2015.000000</td>\n",
       "    </tr>\n",
       "  </tbody>\n",
       "</table>\n",
       "</div>"
      ],
      "text/plain": [
       "               Store      DayOfWeek          Sales      Customers      Open  \\\n",
       "count  844392.000000  844392.000000  844392.000000  844392.000000  844392.0   \n",
       "mean      558.422920       3.520361    6955.514291     762.728395       1.0   \n",
       "std       321.731914       1.723689    3104.214680     401.227674       0.0   \n",
       "min         1.000000       1.000000       0.000000       0.000000       1.0   \n",
       "25%       280.000000       2.000000    4859.000000     519.000000       1.0   \n",
       "50%       558.000000       3.000000    6369.000000     676.000000       1.0   \n",
       "75%       837.000000       5.000000    8360.000000     893.000000       1.0   \n",
       "max      1115.000000       7.000000   41551.000000    7388.000000       1.0   \n",
       "\n",
       "               Promo  SchoolHoliday  StateHoliday_cat  CompetitionDistance  \\\n",
       "count  844392.000000  844392.000000     844392.000000        844392.000000   \n",
       "mean        0.446352       0.193580          0.001078          5449.868829   \n",
       "std         0.497114       0.395103          0.032811          7800.946702   \n",
       "min         0.000000       0.000000          0.000000            20.000000   \n",
       "25%         0.000000       0.000000          0.000000           710.000000   \n",
       "50%         0.000000       0.000000          0.000000          2325.000000   \n",
       "75%         1.000000       0.000000          0.000000          6880.000000   \n",
       "max         1.000000       1.000000          1.000000         75860.000000   \n",
       "\n",
       "       CompetitionOpenSinceMonth  CompetitionOpenSinceYear         Promo2  \\\n",
       "count              844392.000000             844392.000000  844392.000000   \n",
       "mean                    4.926491               1369.688401       0.498684   \n",
       "std                     4.283663                935.558173       0.499999   \n",
       "min                     0.000000                  0.000000       0.000000   \n",
       "25%                     0.000000                  0.000000       0.000000   \n",
       "50%                     4.000000               2006.000000       0.000000   \n",
       "75%                     9.000000               2011.000000       1.000000   \n",
       "max                    12.000000               2015.000000       1.000000   \n",
       "\n",
       "       Promo2SinceWeek  Promo2SinceYear  \n",
       "count    844392.000000    844392.000000  \n",
       "mean         11.596118      1003.230065  \n",
       "std          15.307873      1005.874806  \n",
       "min           0.000000         0.000000  \n",
       "25%           0.000000         0.000000  \n",
       "50%           0.000000         0.000000  \n",
       "75%          22.000000      2012.000000  \n",
       "max          50.000000      2015.000000  "
      ]
     },
     "execution_count": 13,
     "metadata": {},
     "output_type": "execute_result"
    }
   ],
   "source": [
    "train_store.describe()"
   ]
  },
  {
   "cell_type": "code",
   "execution_count": 14,
   "id": "45daff39",
   "metadata": {},
   "outputs": [],
   "source": [
    "train_store[\"Avg_Customer_Sales\"] = train_store.Sales / train_store.Customers"
   ]
  },
  {
   "cell_type": "code",
   "execution_count": 19,
   "id": "ad72fc32",
   "metadata": {},
   "outputs": [
    {
     "data": {
      "image/png": "[encoded data removed]",
      "text/plain": [
       "<Figure size 640x480 with 1 Axes>"
      ]
     },
     "metadata": {},
     "output_type": "display_data"
    }
   ],
   "source": [
    "sns.countplot(data = train_store, x = \"StoreType\", hue = \"Assortment\", order=[\"a\",\"b\",\"c\",\"d\"]) \n",
    "plt.show()"
   ]
  },
  {
   "cell_type": "markdown",
   "id": "1d0cf9aa",
   "metadata": {},
   "source": [
    "#### StoreType B has all assortments. \n",
    "\n",
    "#### The assortment C is better, because the StoreType D has the best average customer spending."
   ]
  },
  {
   "cell_type": "code",
   "execution_count": 21,
   "id": "31870a0c",
   "metadata": {},
   "outputs": [],
   "source": [
    "# formating temporal data\n",
    "train_store.Date = train_store.Date.astype(\"datetime64[ns]\")\n",
    "\n",
    "train_store[\"Month\"] = train_store.Date.dt.month\n",
    "train_store[\"Year\"] = train_store.Date.dt.year\n",
    "train_store[\"Day\"] = train_store.Date.dt.day"
   ]
  },
  {
   "cell_type": "code",
   "execution_count": 22,
   "id": "a2a809a2",
   "metadata": {},
   "outputs": [
    {
     "data": {
      "text/plain": [
       "Index(['Store', 'DayOfWeek', 'Date', 'Sales', 'Customers', 'Open', 'Promo',\n",
       "       'SchoolHoliday', 'StateHoliday_cat', 'StoreType', 'Assortment',\n",
       "       'CompetitionDistance', 'CompetitionOpenSinceMonth',\n",
       "       'CompetitionOpenSinceYear', 'Promo2', 'Promo2SinceWeek',\n",
       "       'Promo2SinceYear', 'PromoInterval', 'Avg_Customer_Sales', 'Month',\n",
       "       'Year', 'Day'],\n",
       "      dtype='object')"
      ]
     },
     "execution_count": 22,
     "metadata": {},
     "output_type": "execute_result"
    }
   ],
   "source": [
    "train_store.columns"
   ]
  },
  {
   "cell_type": "code",
   "execution_count": 23,
   "id": "c3b2b2fa",
   "metadata": {},
   "outputs": [],
   "source": [
    "# The obsverations are continous numbers, so we need to convert them into a categories\n",
    "train_store[\"CompetitionDistance_Cat\"] = pd.cut(train_store[\"CompetitionDistance\"], 5)"
   ]
  },
  {
   "cell_type": "code",
   "execution_count": 24,
   "id": "f8f0a4db",
   "metadata": {},
   "outputs": [],
   "source": [
    "# convert datatype\n",
    "# convert variables to categorical\n",
    "\n",
    "train_store[\"StoreType\"] = train_store[\"StoreType\"].astype(\"category\")\n",
    "train_store[\"Assortment\"] = train_store[\"Assortment\"].astype(\"category\")\n",
    "train_store[\"PromoInterval\"] = train_store[\"PromoInterval\"].astype(\"category\")\n",
    "\n",
    "train_store[\"StoreType_cat\"] = train_store[\"StoreType\"].cat.codes\n",
    "train_store[\"Assortment_cat\"] = train_store[\"Assortment\"].cat.codes\n",
    "train_store[\"PromoInterval_cat\"] = train_store[\"Assortment\"].cat.codes\n",
    "\n",
    "train_store[\"StateHoliday_cat\"] = train_store[\"StateHoliday_cat\"].astype(\"float\")\n",
    "train_store[\"StoreType_cat\"] = train_store[\"StoreType_cat\"].astype(\"float\")\n",
    "train_store[\"Assortment_cat\"] = train_store[\"Assortment_cat\"].astype(\"float\")\n",
    "train_store[\"PromoInterval_cat\"] = train_store[\"PromoInterval_cat\"].astype(\"float\")"
   ]
  },
  {
   "cell_type": "code",
   "execution_count": null,
   "id": "eaff4f13",
   "metadata": {},
   "outputs": [],
   "source": []
  },
  {
   "cell_type": "markdown",
   "id": "8b56875f",
   "metadata": {},
   "source": [
    "## Random Forest Regression"
   ]
  },
  {
   "cell_type": "code",
   "execution_count": 25,
   "id": "be88241e",
   "metadata": {},
   "outputs": [],
   "source": [
    "train_store[\"CompetitionOpenSince\"] = np.where((train_store[\"CompetitionOpenSinceMonth\"] == 0) & (train_store[\"CompetitionOpenSinceYear\"] == 0), \n",
    "                                                0,(train_store.Month - train_store.CompetitionOpenSinceMonth) + (12 *(train_store.Year - train_store.CompetitionOpenSinceYear)))\n",
    "\n",
    "# drop the variables\n",
    "train_store = train_store.drop([\"CompetitionOpenSinceMonth\", \"CompetitionOpenSinceYear\"], axis = 1)"
   ]
  },
  {
   "cell_type": "code",
   "execution_count": 26,
   "id": "e64c9560",
   "metadata": {},
   "outputs": [],
   "source": [
    "# drop variables, that either or not numeric or we dont need them anymore\n",
    "# create a new data frame for this model\n",
    "trainstore_rf = train_store.copy()\n",
    "trainstore_rf = train_store.drop([\"Date\",\"StoreType\", \"Assortment\", \"PromoInterval\", \"CompetitionDistance_Cat\"], axis = 1) #dop this columns, as we already have them in categories"
   ]
  },
  {
   "cell_type": "code",
   "execution_count": null,
   "id": "9e7be206",
   "metadata": {},
   "outputs": [],
   "source": []
  },
  {
   "cell_type": "code",
   "execution_count": 31,
   "id": "fd8da878",
   "metadata": {},
   "outputs": [
    {
     "name": "stdout",
     "output_type": "stream",
     "text": [
      "(675513, 17) (168879, 17) (675513,) (168879,)\n"
     ]
    }
   ],
   "source": [
    "features = trainstore_rf.drop([\"Customers\", \"Sales\", \"Avg_Customer_Sales\"], axis = 1)\n",
    "target = trainstore_rf[\"Sales\"]\n",
    "\n",
    "X_train, X_train_test, y_train, y_train_test = model_selection.train_test_split(features, target, test_size = 0.20, random_state = 15) \n",
    "\n",
    "print(X_train.shape, X_train_test.shape, y_train.shape, y_train_test.shape)"
   ]
  },
  {
   "cell_type": "code",
   "execution_count": 32,
   "id": "dbdca985",
   "metadata": {},
   "outputs": [],
   "source": [
    "from sklearn.ensemble import RandomForestRegressor\n",
    "\n",
    "regts = RandomForestRegressor(n_estimators=10)\n",
    "regts.fit(X_train, y_train)\n",
    "yhat = regts.predict(X_train_test)"
   ]
  },
  {
   "cell_type": "code",
   "execution_count": null,
   "id": "09513c19",
   "metadata": {},
   "outputs": [],
   "source": []
  },
  {
   "cell_type": "code",
   "execution_count": 34,
   "id": "815edb5e",
   "metadata": {},
   "outputs": [
    {
     "name": "stdout",
     "output_type": "stream",
     "text": [
      "RMS: 979.2188344107592\n"
     ]
    }
   ],
   "source": [
    "rms = sqrt(mean_squared_error(y_train_test, yhat))\n",
    "print(\"RMS:\", rms)"
   ]
  },
  {
   "cell_type": "code",
   "execution_count": null,
   "id": "41532059",
   "metadata": {},
   "outputs": [],
   "source": []
  },
  {
   "cell_type": "code",
   "execution_count": 35,
   "id": "1a6dad39",
   "metadata": {},
   "outputs": [],
   "source": [
    "def rmspe(y, yhat):\n",
    "    return np.sqrt(np.mean((yhat/y-1) ** 2))\n",
    "\n",
    "def rmspe_xg(yhat, y):\n",
    "    y = np.expm1(y.get_label())\n",
    "    yhat = np.expm1(yhat)\n",
    "    return \"rmspe\", rmspe(y,yhat)"
   ]
  },
  {
   "cell_type": "code",
   "execution_count": 36,
   "id": "bbef17f6",
   "metadata": {},
   "outputs": [
    {
     "name": "stderr",
     "output_type": "stream",
     "text": [
      "C:\\Users\\Hitesh\\AppData\\Local\\Programs\\Python\\Python310\\lib\\site-packages\\xgboost\\training.py:38: UserWarning: `feval` is deprecated, use `custom_metric` instead.  They have different behavior when custom objective is also used.See https://xgboost.readthedocs.io/en/latest/tutorials/custom_metric_obj.html for details on the `custom_metric`.\n",
      "  warnings.warn(\n",
      "C:\\Users\\Hitesh\\AppData\\Local\\Programs\\Python\\Python310\\lib\\site-packages\\xgboost\\core.py:160: UserWarning: [01:12:09] WARNING: C:\\buildkite-agent\\builds\\buildkite-windows-cpu-autoscaling-group-i-0cec3277c4d9d0165-1\\xgboost\\xgboost-ci-windows\\src\\objective\\regression_obj.cu:209: reg:linear is now deprecated in favor of reg:squarederror.\n",
      "  warnings.warn(smsg, UserWarning)\n",
      "C:\\Users\\Hitesh\\AppData\\Local\\Programs\\Python\\Python310\\lib\\site-packages\\xgboost\\core.py:160: UserWarning: [01:12:09] WARNING: C:\\buildkite-agent\\builds\\buildkite-windows-cpu-autoscaling-group-i-0cec3277c4d9d0165-1\\xgboost\\xgboost-ci-windows\\src\\learner.cc:742: \n",
      "Parameters: { \"silent\" } are not used.\n",
      "\n",
      "  warnings.warn(smsg, UserWarning)\n",
      "C:\\Users\\Hitesh\\AppData\\Local\\Temp\\ipykernel_20284\\159883851.py:5: RuntimeWarning: overflow encountered in expm1\n",
      "  y = np.expm1(y.get_label())\n",
      "C:\\Users\\Hitesh\\AppData\\Local\\Temp\\ipykernel_20284\\159883851.py:6: RuntimeWarning: overflow encountered in expm1\n",
      "  yhat = np.expm1(yhat)\n",
      "C:\\Users\\Hitesh\\AppData\\Local\\Temp\\ipykernel_20284\\159883851.py:2: RuntimeWarning: invalid value encountered in divide\n",
      "  return np.sqrt(np.mean((yhat/y-1) ** 2))\n"
     ]
    },
    {
     "name": "stdout",
     "output_type": "stream",
     "text": [
      "[0]\ttrain-rmse:2178.34574\ttrain-rmspe:nan\teval-rmse:2190.39264\teval-rmspe:nan\n",
      "[1]\ttrain-rmse:2058.34517\ttrain-rmspe:nan\teval-rmse:2080.39838\teval-rmspe:nan\n",
      "[2]\ttrain-rmse:1691.28383\ttrain-rmspe:nan\teval-rmse:1710.25957\teval-rmspe:nan\n",
      "[3]\ttrain-rmse:1586.89091\ttrain-rmspe:nan\teval-rmse:1608.86923\teval-rmspe:nan\n",
      "[4]\ttrain-rmse:1451.21918\ttrain-rmspe:nan\teval-rmse:1475.90850\teval-rmspe:nan\n",
      "[5]\ttrain-rmse:1390.57102\ttrain-rmspe:nan\teval-rmse:1419.20575\teval-rmspe:nan\n",
      "[6]\ttrain-rmse:1318.16227\ttrain-rmspe:nan\teval-rmse:1353.72246\teval-rmspe:nan\n",
      "[7]\ttrain-rmse:1266.66342\ttrain-rmspe:nan\teval-rmse:1306.48351\teval-rmspe:nan\n",
      "[8]\ttrain-rmse:1180.46925\ttrain-rmspe:nan\teval-rmse:1226.91114\teval-rmspe:nan\n",
      "[9]\ttrain-rmse:1140.16038\ttrain-rmspe:nan\teval-rmse:1191.53444\teval-rmspe:nan\n",
      "[10]\ttrain-rmse:1114.72467\ttrain-rmspe:nan\teval-rmse:1171.23067\teval-rmspe:nan\n",
      "[11]\ttrain-rmse:1093.99666\ttrain-rmspe:nan\teval-rmse:1153.20889\teval-rmspe:nan\n",
      "[12]\ttrain-rmse:1059.45095\ttrain-rmspe:nan\teval-rmse:1122.62025\teval-rmspe:nan\n",
      "[13]\ttrain-rmse:1035.91648\ttrain-rmspe:nan\teval-rmse:1102.84883\teval-rmspe:nan\n",
      "[14]\ttrain-rmse:1006.53727\ttrain-rmspe:nan\teval-rmse:1077.01098\teval-rmspe:nan\n",
      "[15]\ttrain-rmse:987.47063\ttrain-rmspe:nan\teval-rmse:1060.89669\teval-rmspe:nan\n",
      "[16]\ttrain-rmse:968.01326\ttrain-rmspe:nan\teval-rmse:1046.07448\teval-rmspe:nan\n",
      "[17]\ttrain-rmse:951.49568\ttrain-rmspe:nan\teval-rmse:1035.80743\teval-rmspe:nan\n",
      "[18]\ttrain-rmse:941.87900\ttrain-rmspe:nan\teval-rmse:1027.72310\teval-rmspe:nan\n",
      "[19]\ttrain-rmse:931.55986\ttrain-rmspe:nan\teval-rmse:1022.37223\teval-rmspe:nan\n",
      "[20]\ttrain-rmse:914.21187\ttrain-rmspe:nan\teval-rmse:1006.26443\teval-rmspe:nan\n",
      "[21]\ttrain-rmse:907.72346\ttrain-rmspe:nan\teval-rmse:1001.49067\teval-rmspe:nan\n",
      "[22]\ttrain-rmse:895.61084\ttrain-rmspe:nan\teval-rmse:992.97533\teval-rmspe:nan\n",
      "[23]\ttrain-rmse:889.82798\ttrain-rmspe:nan\teval-rmse:990.06590\teval-rmspe:nan\n",
      "[24]\ttrain-rmse:880.47315\ttrain-rmspe:nan\teval-rmse:982.12965\teval-rmspe:nan\n",
      "[25]\ttrain-rmse:872.89896\ttrain-rmspe:nan\teval-rmse:978.04432\teval-rmspe:nan\n",
      "[26]\ttrain-rmse:866.94508\ttrain-rmspe:nan\teval-rmse:974.39721\teval-rmspe:nan\n",
      "[27]\ttrain-rmse:854.78539\ttrain-rmspe:nan\teval-rmse:966.58938\teval-rmspe:nan\n",
      "[28]\ttrain-rmse:849.05094\ttrain-rmspe:nan\teval-rmse:963.83978\teval-rmspe:nan\n",
      "[29]\ttrain-rmse:840.75794\ttrain-rmspe:nan\teval-rmse:959.09214\teval-rmspe:nan\n",
      "[30]\ttrain-rmse:834.90328\ttrain-rmspe:nan\teval-rmse:957.72761\teval-rmspe:nan\n",
      "[31]\ttrain-rmse:827.90121\ttrain-rmspe:nan\teval-rmse:953.04514\teval-rmspe:nan\n",
      "[32]\ttrain-rmse:820.45765\ttrain-rmspe:nan\teval-rmse:948.16991\teval-rmspe:nan\n",
      "[33]\ttrain-rmse:815.32135\ttrain-rmspe:nan\teval-rmse:944.66115\teval-rmspe:nan\n",
      "[34]\ttrain-rmse:807.40735\ttrain-rmspe:nan\teval-rmse:940.84051\teval-rmspe:nan\n",
      "[35]\ttrain-rmse:800.00421\ttrain-rmspe:nan\teval-rmse:937.45430\teval-rmspe:nan\n",
      "[36]\ttrain-rmse:792.49162\ttrain-rmspe:nan\teval-rmse:933.28717\teval-rmspe:nan\n",
      "[37]\ttrain-rmse:786.70155\ttrain-rmspe:nan\teval-rmse:930.23455\teval-rmspe:nan\n",
      "[38]\ttrain-rmse:780.11520\ttrain-rmspe:nan\teval-rmse:926.56887\teval-rmspe:nan\n",
      "[39]\ttrain-rmse:776.27764\ttrain-rmspe:nan\teval-rmse:925.38273\teval-rmspe:nan\n",
      "[40]\ttrain-rmse:769.20886\ttrain-rmspe:nan\teval-rmse:920.27367\teval-rmspe:nan\n",
      "[41]\ttrain-rmse:764.26639\ttrain-rmspe:nan\teval-rmse:918.21614\teval-rmspe:nan\n",
      "[42]\ttrain-rmse:759.07306\ttrain-rmspe:nan\teval-rmse:915.61582\teval-rmspe:nan\n",
      "[43]\ttrain-rmse:755.25791\ttrain-rmspe:nan\teval-rmse:914.65633\teval-rmspe:nan\n",
      "[44]\ttrain-rmse:749.80083\ttrain-rmspe:nan\teval-rmse:912.75438\teval-rmspe:nan\n",
      "[45]\ttrain-rmse:744.43908\ttrain-rmspe:nan\teval-rmse:910.86773\teval-rmspe:nan\n",
      "[46]\ttrain-rmse:740.41983\ttrain-rmspe:nan\teval-rmse:909.21009\teval-rmspe:nan\n",
      "[47]\ttrain-rmse:735.97757\ttrain-rmspe:nan\teval-rmse:907.48506\teval-rmspe:nan\n",
      "[48]\ttrain-rmse:730.70801\ttrain-rmspe:nan\teval-rmse:906.05651\teval-rmspe:nan\n",
      "[49]\ttrain-rmse:727.04237\ttrain-rmspe:nan\teval-rmse:904.72473\teval-rmspe:nan\n",
      "[50]\ttrain-rmse:724.57793\ttrain-rmspe:nan\teval-rmse:904.18493\teval-rmspe:nan\n",
      "[51]\ttrain-rmse:721.32035\ttrain-rmspe:nan\teval-rmse:903.67894\teval-rmspe:nan\n",
      "[52]\ttrain-rmse:716.76881\ttrain-rmspe:nan\teval-rmse:902.25220\teval-rmspe:nan\n",
      "[53]\ttrain-rmse:712.94072\ttrain-rmspe:nan\teval-rmse:900.74406\teval-rmspe:nan\n",
      "[54]\ttrain-rmse:710.47504\ttrain-rmspe:nan\teval-rmse:899.63669\teval-rmspe:nan\n",
      "[55]\ttrain-rmse:707.29996\ttrain-rmspe:nan\teval-rmse:899.09335\teval-rmspe:nan\n",
      "[56]\ttrain-rmse:702.70092\ttrain-rmspe:nan\teval-rmse:896.69622\teval-rmspe:nan\n",
      "[57]\ttrain-rmse:699.68882\ttrain-rmspe:nan\teval-rmse:896.15975\teval-rmspe:nan\n",
      "[58]\ttrain-rmse:697.70880\ttrain-rmspe:nan\teval-rmse:896.53049\teval-rmspe:nan\n",
      "[59]\ttrain-rmse:695.47133\ttrain-rmspe:nan\teval-rmse:895.57599\teval-rmspe:nan\n"
     ]
    },
    {
     "name": "stderr",
     "output_type": "stream",
     "text": [
      "C:\\Users\\Hitesh\\AppData\\Local\\Temp\\ipykernel_20284\\159883851.py:2: RuntimeWarning: divide by zero encountered in divide\n",
      "  return np.sqrt(np.mean((yhat/y-1) ** 2))\n"
     ]
    },
    {
     "name": "stdout",
     "output_type": "stream",
     "text": [
      "[60]\ttrain-rmse:691.77733\ttrain-rmspe:nan\teval-rmse:894.73859\teval-rmspe:nan\n",
      "[61]\ttrain-rmse:689.94487\ttrain-rmspe:nan\teval-rmse:894.62436\teval-rmspe:nan\n",
      "[62]\ttrain-rmse:686.02656\ttrain-rmspe:nan\teval-rmse:892.91767\teval-rmspe:nan\n",
      "[63]\ttrain-rmse:683.71878\ttrain-rmspe:nan\teval-rmse:892.42699\teval-rmspe:nan\n",
      "[64]\ttrain-rmse:679.95008\ttrain-rmspe:nan\teval-rmse:890.66140\teval-rmspe:nan\n",
      "[65]\ttrain-rmse:678.57339\ttrain-rmspe:nan\teval-rmse:890.65458\teval-rmspe:nan\n",
      "[66]\ttrain-rmse:675.46546\ttrain-rmspe:nan\teval-rmse:889.56592\teval-rmspe:nan\n",
      "[67]\ttrain-rmse:670.70357\ttrain-rmspe:nan\teval-rmse:887.13062\teval-rmspe:nan\n",
      "[68]\ttrain-rmse:668.33102\ttrain-rmspe:nan\teval-rmse:886.92451\teval-rmspe:nan\n",
      "[69]\ttrain-rmse:664.38577\ttrain-rmspe:nan\teval-rmse:885.26887\teval-rmspe:nan\n",
      "[70]\ttrain-rmse:661.67044\ttrain-rmspe:nan\teval-rmse:884.24441\teval-rmspe:nan\n",
      "[71]\ttrain-rmse:659.04306\ttrain-rmspe:nan\teval-rmse:883.93075\teval-rmspe:nan\n",
      "[72]\ttrain-rmse:656.90489\ttrain-rmspe:nan\teval-rmse:883.61605\teval-rmspe:nan\n",
      "[73]\ttrain-rmse:654.91699\ttrain-rmspe:nan\teval-rmse:883.16728\teval-rmspe:nan\n",
      "[74]\ttrain-rmse:651.87348\ttrain-rmspe:nan\teval-rmse:882.88049\teval-rmspe:nan\n",
      "[75]\ttrain-rmse:649.81902\ttrain-rmspe:nan\teval-rmse:882.82282\teval-rmspe:nan\n",
      "[76]\ttrain-rmse:648.14886\ttrain-rmspe:nan\teval-rmse:882.47610\teval-rmspe:nan\n",
      "[77]\ttrain-rmse:645.72067\ttrain-rmspe:nan\teval-rmse:882.12403\teval-rmspe:nan\n",
      "[78]\ttrain-rmse:642.64662\ttrain-rmspe:nan\teval-rmse:881.96189\teval-rmspe:nan\n",
      "[79]\ttrain-rmse:639.11842\ttrain-rmspe:nan\teval-rmse:880.59617\teval-rmspe:nan\n",
      "[80]\ttrain-rmse:635.59578\ttrain-rmspe:nan\teval-rmse:880.26936\teval-rmspe:nan\n",
      "[81]\ttrain-rmse:633.01416\ttrain-rmspe:nan\teval-rmse:879.96723\teval-rmspe:nan\n",
      "[82]\ttrain-rmse:630.65697\ttrain-rmspe:nan\teval-rmse:879.27994\teval-rmspe:nan\n",
      "[83]\ttrain-rmse:628.51586\ttrain-rmspe:nan\teval-rmse:878.67400\teval-rmspe:nan\n",
      "[84]\ttrain-rmse:626.91962\ttrain-rmspe:nan\teval-rmse:878.64357\teval-rmspe:nan\n",
      "[85]\ttrain-rmse:624.64068\ttrain-rmspe:nan\teval-rmse:877.68806\teval-rmspe:nan\n",
      "[86]\ttrain-rmse:623.25624\ttrain-rmspe:nan\teval-rmse:877.11186\teval-rmspe:nan\n",
      "[87]\ttrain-rmse:620.69964\ttrain-rmspe:nan\teval-rmse:876.83317\teval-rmspe:nan\n",
      "[88]\ttrain-rmse:619.71896\ttrain-rmspe:nan\teval-rmse:876.80617\teval-rmspe:nan\n",
      "[89]\ttrain-rmse:617.31856\ttrain-rmspe:nan\teval-rmse:876.97557\teval-rmspe:nan\n",
      "[90]\ttrain-rmse:614.86452\ttrain-rmspe:nan\teval-rmse:876.23886\teval-rmspe:nan\n",
      "[91]\ttrain-rmse:612.16719\ttrain-rmspe:nan\teval-rmse:876.22626\teval-rmspe:nan\n",
      "[92]\ttrain-rmse:610.35310\ttrain-rmspe:nan\teval-rmse:875.87833\teval-rmspe:nan\n",
      "[93]\ttrain-rmse:607.89481\ttrain-rmspe:nan\teval-rmse:875.15478\teval-rmspe:nan\n",
      "[94]\ttrain-rmse:606.26240\ttrain-rmspe:nan\teval-rmse:874.94211\teval-rmspe:nan\n",
      "[95]\ttrain-rmse:604.49831\ttrain-rmspe:nan\teval-rmse:874.35045\teval-rmspe:nan\n",
      "[96]\ttrain-rmse:602.67731\ttrain-rmspe:nan\teval-rmse:874.23302\teval-rmspe:nan\n",
      "[97]\ttrain-rmse:600.36256\ttrain-rmspe:nan\teval-rmse:873.15506\teval-rmspe:nan\n",
      "[98]\ttrain-rmse:598.18277\ttrain-rmspe:nan\teval-rmse:873.24835\teval-rmspe:nan\n",
      "[99]\ttrain-rmse:596.34412\ttrain-rmspe:nan\teval-rmse:873.01143\teval-rmspe:nan\n"
     ]
    }
   ],
   "source": [
    "param = {'max_depth':10, \n",
    "         \"booster\": \"gbtree\",   \n",
    "         'eta':1, \n",
    "         'silent':1, \n",
    "         'objective':'reg:linear'\n",
    "        }\n",
    "\n",
    "#define number of boosting rounds\n",
    "num_round = 100 \n",
    "\n",
    "dtrain = xgb.DMatrix(X_train, y_train)\n",
    "dtest = xgb.DMatrix(X_train_test, y_train_test)\n",
    "watchlist = [(dtrain, 'train'), (dtest, 'eval')]\n",
    "\n",
    "xgboost = xgb.train(param, dtrain, num_round, evals=watchlist, \\\n",
    "  early_stopping_rounds= 100, feval=rmspe_xg, verbose_eval=True)\n",
    "         \n",
    "# make prediction\n",
    "preds = xgboost.predict(dtest)"
   ]
  },
  {
   "cell_type": "code",
   "execution_count": 37,
   "id": "a97640c4",
   "metadata": {},
   "outputs": [
    {
     "name": "stdout",
     "output_type": "stream",
     "text": [
      "RMS: 873.0114320856579\n"
     ]
    }
   ],
   "source": [
    "rms_xgboost = sqrt(mean_squared_error(y_train_test, preds))\n",
    "print(\"RMS:\", rms_xgboost) "
   ]
  },
  {
   "cell_type": "code",
   "execution_count": 38,
   "id": "d3418221",
   "metadata": {},
   "outputs": [
    {
     "data": {
      "text/html": [
       "<div>\n",
       "<style scoped>\n",
       "    .dataframe tbody tr th:only-of-type {\n",
       "        vertical-align: middle;\n",
       "    }\n",
       "\n",
       "    .dataframe tbody tr th {\n",
       "        vertical-align: top;\n",
       "    }\n",
       "\n",
       "    .dataframe thead th {\n",
       "        text-align: right;\n",
       "    }\n",
       "</style>\n",
       "<table border=\"1\" class=\"dataframe\">\n",
       "  <thead>\n",
       "    <tr style=\"text-align: right;\">\n",
       "      <th></th>\n",
       "      <th>Model</th>\n",
       "      <th>Score</th>\n",
       "    </tr>\n",
       "  </thead>\n",
       "  <tbody>\n",
       "    <tr>\n",
       "      <th>1</th>\n",
       "      <td>XGBoost</td>\n",
       "      <td>873.011432</td>\n",
       "    </tr>\n",
       "    <tr>\n",
       "      <th>0</th>\n",
       "      <td>Random Forest Regression</td>\n",
       "      <td>979.218834</td>\n",
       "    </tr>\n",
       "  </tbody>\n",
       "</table>\n",
       "</div>"
      ],
      "text/plain": [
       "                      Model       Score\n",
       "1                   XGBoost  873.011432\n",
       "0  Random Forest Regression  979.218834"
      ]
     },
     "execution_count": 38,
     "metadata": {},
     "output_type": "execute_result"
    }
   ],
   "source": [
    "# compare\n",
    "\n",
    "model_errors = pd.DataFrame({\n",
    "    \"Model\": [ \"Random Forest Regression\", \"XGBoost\"],\n",
    "    \"Score\": [ rms, rms_xgboost]\n",
    "})\n",
    "\n",
    "model_errors.sort_values(by = \"Score\", ascending = True)"
   ]
  },
  {
   "cell_type": "code",
   "execution_count": null,
   "id": "fefe2255",
   "metadata": {},
   "outputs": [],
   "source": []
  }
 ],
 "metadata": {
  "kernelspec": {
   "display_name": "Python 3 (ipykernel)",
   "language": "python",
   "name": "python3"
  },
  "language_info": {
   "codemirror_mode": {
    "name": "ipython",
    "version": 3
   },
   "file_extension": ".py",
   "mimetype": "text/x-python",
   "name": "python",
   "nbconvert_exporter": "python",
   "pygments_lexer": "ipython3",
   "version": "3.10.9"
  }
 },
 "nbformat": 4,
 "nbformat_minor": 5
}
